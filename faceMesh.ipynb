{
 "cells": [
  {
   "cell_type": "code",
   "execution_count": 1,
   "metadata": {},
   "outputs": [
    {
     "name": "stdout",
     "output_type": "stream",
     "text": [
      "Collecting numpy==1.19.3\n",
      "  Downloading numpy-1.19.3-cp37-cp37m-win_amd64.whl (13.2 MB)\n",
      "Installing collected packages: numpy\n",
      "  Attempting uninstall: numpy\n",
      "    Found existing installation: numpy 1.18.1\n",
      "    Uninstalling numpy-1.18.1:\n",
      "      Successfully uninstalled numpy-1.18.1\n",
      "Successfully installed numpy-1.19.3\n",
      "Collecting mediapipe\n",
      "  Downloading mediapipe-0.8.2-cp37-cp37m-win_amd64.whl (51.1 MB)\n",
      "Collecting absl-py\n",
      "  Downloading absl_py-0.11.0-py3-none-any.whl (127 kB)\n",
      "Requirement already satisfied: six in c:\\users\\hp\\anaconda3\\lib\\site-packages (from mediapipe) (1.14.0)\n",
      "Requirement already satisfied: numpy==1.19.3 in c:\\users\\hp\\anaconda3\\lib\\site-packages (from mediapipe) (1.19.3)\n",
      "Collecting protobuf>=3.11.4\n",
      "  Downloading protobuf-3.14.0-cp37-cp37m-win_amd64.whl (798 kB)\n",
      "Collecting dataclasses\n",
      "  Downloading dataclasses-0.6-py3-none-any.whl (14 kB)\n",
      "Requirement already satisfied: wheel in c:\\users\\hp\\anaconda3\\lib\\site-packages (from mediapipe) (0.34.2)\n",
      "Collecting opencv-python\n",
      "  Downloading opencv_python-4.4.0.46-cp37-cp37m-win_amd64.whl (33.5 MB)\n",
      "Installing collected packages: absl-py, protobuf, dataclasses, opencv-python, mediapipe\n",
      "Successfully installed absl-py-0.11.0 dataclasses-0.6 mediapipe-0.8.2 opencv-python-4.4.0.46 protobuf-3.14.0\n"
     ]
    }
   ],
   "source": [
    "!pip install numpy==1.19.3\n",
    "!pip install mediapipe"
   ]
  },
  {
   "cell_type": "code",
   "execution_count": 1,
   "metadata": {},
   "outputs": [],
   "source": [
    "import cv2\n",
    "import mediapipe as mp\n",
    "mp_drawing = mp.solutions.drawing_utils\n",
    "mp_face_mesh = mp.solutions.face_mesh"
   ]
  },
  {
   "cell_type": "code",
   "execution_count": null,
   "metadata": {},
   "outputs": [],
   "source": [
    "face_mesh = mp_face_mesh.FaceMesh(\n",
    "    min_detection_confidence=0.5, min_tracking_confidence=0.5)\n",
    "drawing_spec = mp_drawing.DrawingSpec(thickness=1, circle_radius=1)\n",
    "cap = cv2.VideoCapture(0)\n",
    "while cap.isOpened():\n",
    "  success, image = cap.read()\n",
    "  if not success:\n",
    "    print(\"Ignoring empty camera frame.\")\n",
    "    # If loading a video, use 'break' instead of 'continue'.\n",
    "    continue\n",
    "\n",
    "  # Flip the image horizontally for a later selfie-view display, and convert\n",
    "  # the BGR image to RGB.\n",
    "  image = cv2.cvtColor(cv2.flip(image, 1), cv2.COLOR_BGR2RGB)\n",
    "  # To improve performance, optionally mark the image as not writeable to\n",
    "  # pass by reference.\n",
    "  image.flags.writeable = False\n",
    "  results = face_mesh.process(image)\n",
    "\n",
    "  # Draw the face mesh annotations on the image.\n",
    "  image.flags.writeable = True\n",
    "  image = cv2.cvtColor(image, cv2.COLOR_RGB2BGR)\n",
    "  if results.multi_face_landmarks:\n",
    "    for face_landmarks in results.multi_face_landmarks:\n",
    "      mp_drawing.draw_landmarks(\n",
    "          image=image,\n",
    "          landmark_list=face_landmarks,\n",
    "          connections=mp_face_mesh.FACE_CONNECTIONS,\n",
    "          landmark_drawing_spec=drawing_spec,\n",
    "          connection_drawing_spec=drawing_spec)\n",
    "  cv2.imshow('MediaPipe FaceMesh', image)\n",
    "  if cv2.waitKey(5) & 0xFF == 27:\n",
    "    break\n",
    "face_mesh.close()\n",
    "cap.release()"
   ]
  },
  {
   "cell_type": "code",
   "execution_count": null,
   "metadata": {},
   "outputs": [],
   "source": []
  }
 ],
 "metadata": {
  "kernelspec": {
   "display_name": "Python 3",
   "language": "python",
   "name": "python3"
  },
  "language_info": {
   "codemirror_mode": {
    "name": "ipython",
    "version": 3
   },
   "file_extension": ".py",
   "mimetype": "text/x-python",
   "name": "python",
   "nbconvert_exporter": "python",
   "pygments_lexer": "ipython3",
   "version": "3.7.6"
  }
 },
 "nbformat": 4,
 "nbformat_minor": 4
}
